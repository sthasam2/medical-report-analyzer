{
 "cells": [
  {
   "cell_type": "code",
   "execution_count": 2,
   "id": "89d5d94c",
   "metadata": {},
   "outputs": [],
   "source": [
    "import stanza"
   ]
  },
  {
   "cell_type": "code",
   "execution_count": 3,
   "id": "27dadff4",
   "metadata": {},
   "outputs": [],
   "source": [
    "text = \"\"\"\n",
    "SUBJECTIVE:  This is a (XX)-year-old Hispanic female with a past medical history as mentioned in the previous visit, who came for a followup for the ulcers in the left leg.  Apparently, the left ulcer has still not completely healed but with erythema and less induration. There is some purulent discharge noted.  The leg edema is markedly improved with diuretics.  The patient still has some engorged varicose veins but without any new ulcerations.\n",
    "\n",
    "OBJECTIVE:\n",
    "\n",
    "GENERAL APPEARANCE:  The patient is a morbidly obese, fairly-developed female. The patient is alert and oriented x3, not in any acute distress. The patient is ambulatory.\n",
    "\n",
    "VITAL SIGNS:  Temperature 98.4 with a blood pressure of 132/80, pulse of 88, respirations of 20, and weight of 221 pounds, which is decreased from the previous weight of 228.\n",
    "\n",
    "LUNGS:  Clear to auscultation.\n",
    "\n",
    "CARDIOVASCULAR SYSTEM:  Normal rate.  Regular rhythm.  There is no gallop\n",
    "\n",
    "EXTREMITIES:  The extremities are still with about 1+ to +2 pitting leg edema and there is still an open leg ulcer on the left shin area, the mid section, but without any purulent discharge.  No visible induration noted.  Mild erythema.  There is no active bleeding noted and nontender.  The patient also has good pedal pulses.\n",
    "\n",
    "NEUROLOGIC EXAMINATION:  Intact.\n",
    "\n",
    "ASSESSMENT AND PLAN:\n",
    "\n",
    "1.  Nonhealing ulcers of the left leg.  Plan is to retreat with Cipro 500 mg p.o. b.i.d. for 10 days with clindamycin 300 mg p.o. 3 times a day for 10 days.  Would get an x-ray of the left leg and also refer the patient to Infectious Disease for further evaluation and management as well as outpatient wound care center.  The patient will be followed up in about a month.\n",
    "\n",
    "2.  Hypertension, well controlled.  Will continue with the diuretic with Lasix 20 mg b.i.d. with potassium supplement.\n",
    "\n",
    "3.  Leg edema most likely secondary to venous insufficiency.  Continue with the same treatment as #2.\n",
    "\n",
    "4.  The patient will be advised to follow up in about a month.\n",
    "\"\"\""
   ]
  },
  {
   "cell_type": "code",
   "execution_count": 9,
   "id": "cb0c8bdf",
   "metadata": {},
   "outputs": [
    {
     "name": "stderr",
     "output_type": "stream",
     "text": [
      "2022-12-10 20:25:27 INFO: Checking for updates to resources.json in case models have been updated.  Note: this behavior can be turned off with download_method=None or download_method=DownloadMethod.REUSE_RESOURCES\n"
     ]
    },
    {
     "data": {
      "application/vnd.jupyter.widget-view+json": {
       "model_id": "b6aeb830c83945fab06a29bb8337119c",
       "version_major": 2,
       "version_minor": 0
      },
      "text/plain": [
       "Downloading https://raw.githubusercontent.com/stanfordnlp/stanza-resources/main/resources_1.4.1.json:   0%|   …"
      ]
     },
     "metadata": {},
     "output_type": "display_data"
    },
    {
     "name": "stderr",
     "output_type": "stream",
     "text": [
      "2022-12-10 20:25:28 INFO: Loading these models for language: en (English):\n",
      "=======================\n",
      "| Processor | Package |\n",
      "-----------------------\n",
      "| tokenize  | mimic   |\n",
      "| pos       | mimic   |\n",
      "| lemma     | mimic   |\n",
      "| depparse  | mimic   |\n",
      "=======================\n",
      "\n",
      "2022-12-10 20:25:28 INFO: Use device: cpu\n",
      "2022-12-10 20:25:28 INFO: Loading: tokenize\n",
      "2022-12-10 20:25:28 INFO: Loading: pos\n",
      "2022-12-10 20:25:28 INFO: Loading: lemma\n",
      "2022-12-10 20:25:28 INFO: Loading: depparse\n",
      "2022-12-10 20:25:29 INFO: Done loading processors!\n"
     ]
    }
   ],
   "source": [
    "ner_pipeline = stanza.Pipeline(\"en\", package=\"mimic\", probcessors={\"ner\": \"i2b2\"})"
   ]
  },
  {
   "cell_type": "code",
   "execution_count": 10,
   "id": "5937e11f",
   "metadata": {},
   "outputs": [],
   "source": [
    "clinical_text = \"Patient having severe sinusitis about two to three months ago with facial discomfort, nasal congestion, eye pain, and postnasal drip symptoms.\""
   ]
  },
  {
   "cell_type": "code",
   "execution_count": 11,
   "id": "0251a151",
   "metadata": {},
   "outputs": [
    {
     "data": {
      "text/plain": [
       "[]"
      ]
     },
     "execution_count": 11,
     "metadata": {},
     "output_type": "execute_result"
    }
   ],
   "source": [
    "ner_pipeline(clinical_text).entities"
   ]
  },
  {
   "cell_type": "code",
   "execution_count": 12,
   "id": "4aa637fc",
   "metadata": {},
   "outputs": [],
   "source": [
    "long_doc = ner_pipeline(text)"
   ]
  },
  {
   "cell_type": "code",
   "execution_count": 13,
   "id": "d54b271f",
   "metadata": {},
   "outputs": [
    {
     "data": {
      "text/plain": [
       "[]"
      ]
     },
     "execution_count": 13,
     "metadata": {},
     "output_type": "execute_result"
    }
   ],
   "source": [
    "long_doc.entities"
   ]
  },
  {
   "cell_type": "code",
   "execution_count": 14,
   "id": "b5f624f2",
   "metadata": {},
   "outputs": [
    {
     "name": "stderr",
     "output_type": "stream",
     "text": [
      "2022-12-10 20:25:42 INFO: Checking for updates to resources.json in case models have been updated.  Note: this behavior can be turned off with download_method=None or download_method=DownloadMethod.REUSE_RESOURCES\n"
     ]
    },
    {
     "data": {
      "application/vnd.jupyter.widget-view+json": {
       "model_id": "9858b45d4cd24dd9bd6052c393cab6fe",
       "version_major": 2,
       "version_minor": 0
      },
      "text/plain": [
       "Downloading https://raw.githubusercontent.com/stanfordnlp/stanza-resources/main/resources_1.4.1.json:   0%|   …"
      ]
     },
     "metadata": {},
     "output_type": "display_data"
    },
    {
     "name": "stderr",
     "output_type": "stream",
     "text": [
      "2022-12-10 20:25:43 INFO: Loading these models for language: en (English):\n",
      "=========================\n",
      "| Processor | Package   |\n",
      "-------------------------\n",
      "| tokenize  | combined  |\n",
      "| ner       | ontonotes |\n",
      "=========================\n",
      "\n",
      "2022-12-10 20:25:43 INFO: Use device: cpu\n",
      "2022-12-10 20:25:43 INFO: Loading: tokenize\n",
      "2022-12-10 20:25:43 INFO: Loading: ner\n",
      "2022-12-10 20:25:44 INFO: Done loading processors!\n"
     ]
    }
   ],
   "source": [
    "name_nlp = stanza.Pipeline(lang='en', processors='tokenize,ner')"
   ]
  },
  {
   "cell_type": "code",
   "execution_count": 15,
   "id": "25e809f5",
   "metadata": {},
   "outputs": [
    {
     "data": {
      "text/plain": [
       "[{\n",
       "   \"text\": \"Aashutosh Aryal\",\n",
       "   \"type\": \"PERSON\",\n",
       "   \"start_char\": 0,\n",
       "   \"end_char\": 15\n",
       " },\n",
       " {\n",
       "   \"text\": \"Kathmandu\",\n",
       "   \"type\": \"GPE\",\n",
       "   \"start_char\": 24,\n",
       "   \"end_char\": 33\n",
       " },\n",
       " {\n",
       "   \"text\": \"20 years old\",\n",
       "   \"type\": \"DATE\",\n",
       "   \"start_char\": 41,\n",
       "   \"end_char\": 53\n",
       " }]"
      ]
     },
     "execution_count": 15,
     "metadata": {},
     "output_type": "execute_result"
    }
   ],
   "source": [
    "name_nlp(\"Aashutosh Aryal is from Kathmandu and is 20 years old.\").entities"
   ]
  },
  {
   "cell_type": "code",
   "execution_count": 16,
   "id": "6a12892a",
   "metadata": {},
   "outputs": [],
   "source": [
    "doc = name_nlp(\"Aashutosh Aryal is from Kathmandu and of age 20\")"
   ]
  },
  {
   "cell_type": "code",
   "execution_count": 17,
   "id": "26fd131d",
   "metadata": {},
   "outputs": [],
   "source": [
    "sample_record = \"\"\"\n",
    "John Doe from 28 Kilo, Dhulikhel studying at Kathmandu University, age 20, complains of mild joint pains.\n",
    "He also suffers from frequent cramps on his legs. His X-ray scan showed no issues with bones.\n",
    "After a vitamin D test, it is seen that his vitamin D is just 7.6mg.\n",
    "He has been prescribed VitaD sachets and some calcium tablets.\n",
    "\"\"\""
   ]
  },
  {
   "cell_type": "code",
   "execution_count": 18,
   "id": "96d86252",
   "metadata": {},
   "outputs": [
    {
     "name": "stderr",
     "output_type": "stream",
     "text": [
      "2022-12-10 20:25:55 INFO: Checking for updates to resources.json in case models have been updated.  Note: this behavior can be turned off with download_method=None or download_method=DownloadMethod.REUSE_RESOURCES\n"
     ]
    },
    {
     "data": {
      "application/vnd.jupyter.widget-view+json": {
       "model_id": "3b05a4c0af8a44b28e61350c394e983f",
       "version_major": 2,
       "version_minor": 0
      },
      "text/plain": [
       "Downloading https://raw.githubusercontent.com/stanfordnlp/stanza-resources/main/resources_1.4.1.json:   0%|   …"
      ]
     },
     "metadata": {},
     "output_type": "display_data"
    },
    {
     "name": "stderr",
     "output_type": "stream",
     "text": [
      "2022-12-10 20:25:57 INFO: Loading these models for language: en (English):\n",
      "========================================\n",
      "| Processor | Package                  |\n",
      "----------------------------------------\n",
      "| tokenize  | combined                 |\n",
      "| ner       | i2b2;radiology;ontonotes |\n",
      "========================================\n",
      "\n",
      "2022-12-10 20:25:57 INFO: Use device: cpu\n",
      "2022-12-10 20:25:57 INFO: Loading: tokenize\n",
      "2022-12-10 20:25:57 INFO: Loading: ner\n",
      "2022-12-10 20:25:59 INFO: Done loading processors!\n"
     ]
    }
   ],
   "source": [
    "ner_pipeline = stanza.Pipeline(\n",
    "    \"en\",\n",
    "    processors=\"tokenize,ner\",\n",
    "    package={\"ner\": [\n",
    "        \"i2b2\",\n",
    "        \"radiology\",\n",
    "        \"ontonotes\",\n",
    "        ]\n",
    "    }\n",
    ")"
   ]
  },
  {
   "cell_type": "code",
   "execution_count": 19,
   "id": "063980ef",
   "metadata": {},
   "outputs": [],
   "source": [
    "doc = ner_pipeline(sample_record)"
   ]
  },
  {
   "cell_type": "code",
   "execution_count": 20,
   "id": "16b6959c",
   "metadata": {},
   "outputs": [
    {
     "data": {
      "text/plain": [
       "[{\n",
       "   \"text\": \"John Doe\",\n",
       "   \"type\": \"PERSON\",\n",
       "   \"start_char\": 1,\n",
       "   \"end_char\": 9\n",
       " },\n",
       " {\n",
       "   \"text\": \"28 Kilo\",\n",
       "   \"type\": \"DATE\",\n",
       "   \"start_char\": 15,\n",
       "   \"end_char\": 22\n",
       " },\n",
       " {\n",
       "   \"text\": \"Dhulikhel\",\n",
       "   \"type\": \"GPE\",\n",
       "   \"start_char\": 24,\n",
       "   \"end_char\": 33\n",
       " },\n",
       " {\n",
       "   \"text\": \"Kathmandu University\",\n",
       "   \"type\": \"FAC\",\n",
       "   \"start_char\": 46,\n",
       "   \"end_char\": 66\n",
       " },\n",
       " {\n",
       "   \"text\": \"age 20\",\n",
       "   \"type\": \"DATE\",\n",
       "   \"start_char\": 68,\n",
       "   \"end_char\": 74\n",
       " },\n",
       " {\n",
       "   \"text\": \"mild joint pains\",\n",
       "   \"type\": \"PROBLEM\",\n",
       "   \"start_char\": 89,\n",
       "   \"end_char\": 105\n",
       " },\n",
       " {\n",
       "   \"text\": \"frequent cramps on his legs\",\n",
       "   \"type\": \"PROBLEM\",\n",
       "   \"start_char\": 128,\n",
       "   \"end_char\": 155\n",
       " },\n",
       " {\n",
       "   \"text\": \"His X-ray scan\",\n",
       "   \"type\": \"TEST\",\n",
       "   \"start_char\": 157,\n",
       "   \"end_char\": 171\n",
       " },\n",
       " {\n",
       "   \"text\": \"no\",\n",
       "   \"type\": \"UNCERTAINTY\",\n",
       "   \"start_char\": 179,\n",
       "   \"end_char\": 181\n",
       " },\n",
       " {\n",
       "   \"text\": \"issues with bones\",\n",
       "   \"type\": \"PROBLEM\",\n",
       "   \"start_char\": 182,\n",
       "   \"end_char\": 199\n",
       " },\n",
       " {\n",
       "   \"text\": \"a vitamin D test\",\n",
       "   \"type\": \"TEST\",\n",
       "   \"start_char\": 207,\n",
       "   \"end_char\": 223\n",
       " },\n",
       " {\n",
       "   \"text\": \"his vitamin D\",\n",
       "   \"type\": \"TREATMENT\",\n",
       "   \"start_char\": 241,\n",
       "   \"end_char\": 254\n",
       " },\n",
       " {\n",
       "   \"text\": \"7.6mg\",\n",
       "   \"type\": \"QUANTITY\",\n",
       "   \"start_char\": 263,\n",
       "   \"end_char\": 268\n",
       " },\n",
       " {\n",
       "   \"text\": \"VitaD sachets\",\n",
       "   \"type\": \"TREATMENT\",\n",
       "   \"start_char\": 293,\n",
       "   \"end_char\": 306\n",
       " },\n",
       " {\n",
       "   \"text\": \"some calcium tablets\",\n",
       "   \"type\": \"TREATMENT\",\n",
       "   \"start_char\": 311,\n",
       "   \"end_char\": 331\n",
       " }]"
      ]
     },
     "execution_count": 20,
     "metadata": {},
     "output_type": "execute_result"
    }
   ],
   "source": [
    "doc.entities"
   ]
  },
  {
   "cell_type": "code",
   "execution_count": 21,
   "id": "2421695a",
   "metadata": {},
   "outputs": [],
   "source": [
    "extracted_record = {}"
   ]
  },
  {
   "cell_type": "code",
   "execution_count": 22,
   "id": "160ce9c0",
   "metadata": {},
   "outputs": [],
   "source": [
    "for entity in doc.entities:\n",
    "    if entity.type in extracted_record:\n",
    "        extracted_record[entity.type].append(entity.text)\n",
    "    else:\n",
    "        extracted_record[entity.type] = [entity.text]"
   ]
  },
  {
   "cell_type": "code",
   "execution_count": 23,
   "id": "7cf10a66",
   "metadata": {},
   "outputs": [
    {
     "data": {
      "text/plain": [
       "{'PERSON': ['John Doe'],\n",
       " 'DATE': ['28 Kilo', 'age 20'],\n",
       " 'GPE': ['Dhulikhel'],\n",
       " 'FAC': ['Kathmandu University'],\n",
       " 'PROBLEM': ['mild joint pains',\n",
       "  'frequent cramps on his legs',\n",
       "  'issues with bones'],\n",
       " 'TEST': ['His X-ray scan', 'a vitamin D test'],\n",
       " 'UNCERTAINTY': ['no'],\n",
       " 'TREATMENT': ['his vitamin D', 'VitaD sachets', 'some calcium tablets'],\n",
       " 'QUANTITY': ['7.6mg']}"
      ]
     },
     "execution_count": 23,
     "metadata": {},
     "output_type": "execute_result"
    }
   ],
   "source": [
    "extracted_record"
   ]
  },
  {
   "cell_type": "code",
   "execution_count": 24,
   "id": "edf2636e",
   "metadata": {},
   "outputs": [
    {
     "name": "stderr",
     "output_type": "stream",
     "text": [
      "2022-12-10 20:26:14 INFO: Checking for updates to resources.json in case models have been updated.  Note: this behavior can be turned off with download_method=None or download_method=DownloadMethod.REUSE_RESOURCES\n"
     ]
    },
    {
     "data": {
      "application/vnd.jupyter.widget-view+json": {
       "model_id": "5365e981731c430bb04bba543a62a79c",
       "version_major": 2,
       "version_minor": 0
      },
      "text/plain": [
       "Downloading https://raw.githubusercontent.com/stanfordnlp/stanza-resources/main/resources_1.4.1.json:   0%|   …"
      ]
     },
     "metadata": {},
     "output_type": "display_data"
    },
    {
     "data": {
      "application/vnd.jupyter.widget-view+json": {
       "model_id": "7b5e4ac470ec48caae56354cd18fe56e",
       "version_major": 2,
       "version_minor": 0
      },
      "text/plain": [
       "Downloading https://huggingface.co/stanfordnlp/stanza-en/resolve/v1.4.1/models/sentiment/sstplus.pt:   0%|    …"
      ]
     },
     "metadata": {},
     "output_type": "display_data"
    },
    {
     "data": {
      "application/vnd.jupyter.widget-view+json": {
       "model_id": "1bc73e9539f14ca8ae6a47d1db2ba5e3",
       "version_major": 2,
       "version_minor": 0
      },
      "text/plain": [
       "Downloading https://huggingface.co/stanfordnlp/stanza-en/resolve/v1.4.1/models/pretrain/combined.pt:   0%|    …"
      ]
     },
     "metadata": {},
     "output_type": "display_data"
    },
    {
     "name": "stderr",
     "output_type": "stream",
     "text": [
      "2022-12-10 20:27:25 INFO: Loading these models for language: en (English):\n",
      "========================\n",
      "| Processor | Package  |\n",
      "------------------------\n",
      "| tokenize  | combined |\n",
      "| sentiment | sstplus  |\n",
      "========================\n",
      "\n",
      "2022-12-10 20:27:25 INFO: Use device: cpu\n",
      "2022-12-10 20:27:25 INFO: Loading: tokenize\n",
      "2022-12-10 20:27:25 INFO: Loading: sentiment\n",
      "2022-12-10 20:27:26 INFO: Done loading processors!\n"
     ]
    }
   ],
   "source": [
    "sentiment_analysis_pipeline = stanza.Pipeline(lang='en', processors='tokenize,sentiment', tokenize_no_ssplit=True)"
   ]
  },
  {
   "cell_type": "code",
   "execution_count": 25,
   "id": "e7acc270",
   "metadata": {},
   "outputs": [],
   "source": [
    "doc = sentiment_analysis_pipeline(sample_record)"
   ]
  },
  {
   "cell_type": "code",
   "execution_count": 27,
   "id": "28454349",
   "metadata": {},
   "outputs": [
    {
     "name": "stdout",
     "output_type": "stream",
     "text": [
      "0\n"
     ]
    }
   ],
   "source": [
    "for sentence in doc.sentences:\n",
    "    print(sentence.sentiment)"
   ]
  },
  {
   "cell_type": "code",
   "execution_count": 28,
   "id": "5f915548",
   "metadata": {},
   "outputs": [],
   "source": [
    "# Trying it out.\n",
    "positive_record = \"\"\"\n",
    "Apple complains about a slight discomfort. However, tests have shown no negative issues. Everything is fine.\n",
    "Vitals are normal. Weight is healthy\n",
    "\"\"\""
   ]
  },
  {
   "cell_type": "code",
   "execution_count": 30,
   "id": "b17dc5c5",
   "metadata": {},
   "outputs": [
    {
     "name": "stdout",
     "output_type": "stream",
     "text": [
      "0\n"
     ]
    }
   ],
   "source": [
    "for sentence in sentiment_analysis_pipeline(positive_record).sentences:\n",
    "    print(sentence.sentiment)"
   ]
  },
  {
   "cell_type": "code",
   "execution_count": 81,
   "id": "b4b86d6b",
   "metadata": {},
   "outputs": [],
   "source": [
    "import pprint"
   ]
  },
  {
   "cell_type": "code",
   "execution_count": 82,
   "id": "6486ea1c",
   "metadata": {},
   "outputs": [
    {
     "name": "stdout",
     "output_type": "stream",
     "text": [
      "\n",
      "John Doe from 28 Kilo, Dhulikhel, age 20, complains of mild joint pains.\n",
      "He also suffers from frequent cramps on his legs. His X-ray scan showed no issues with bones.\n",
      "After a vitamin D test, it is seen that his vitamin D is just 7.6mg.\n",
      "He has been prescribed VitaD sachets and some calcium tablets.\n",
      "\n"
     ]
    }
   ],
   "source": [
    "print(sample_record)"
   ]
  },
  {
   "cell_type": "code",
   "execution_count": 83,
   "id": "0ebca72b",
   "metadata": {},
   "outputs": [
    {
     "name": "stdout",
     "output_type": "stream",
     "text": [
      "{'DATE': ['28 Kilo', 'age 20'],\n",
      " 'GPE': ['Dhulikhel'],\n",
      " 'PERSON': ['John Doe'],\n",
      " 'PROBLEM': ['mild joint pains',\n",
      "             'frequent cramps on his legs',\n",
      "             'issues with bones'],\n",
      " 'QUANTITY': ['7.6mg'],\n",
      " 'TEST': ['His X-ray scan', 'a vitamin D test'],\n",
      " 'TREATMENT': ['his vitamin D', 'VitaD sachets', 'some calcium tablets'],\n",
      " 'UNCERTAINTY': ['no']}\n"
     ]
    }
   ],
   "source": [
    "pprint.pprint(extracted_record)"
   ]
  },
  {
   "cell_type": "code",
   "execution_count": 88,
   "id": "61c7079f",
   "metadata": {},
   "outputs": [],
   "source": [
    "medical_record = \"\"\"\n",
    " Ulcers of Leg SOAP Note Medical Transcription Sample Report\n",
    "\n",
    "SUBJECTIVE:  This is a (XX)-year-old Hispanic female with a past medical history as mentioned in the previous visit, who came for a followup for the ulcers in the left leg.  Apparently, the left ulcer has still not completely healed but with erythema and less induration. There is some purulent discharge noted.  The leg edema is markedly improved with diuretics.  The patient still has some engorged varicose veins but without any new ulcerations.\n",
    "\n",
    "OBJECTIVE:\n",
    "\n",
    "GENERAL APPEARANCE:  The patient is a morbidly obese, fairly-developed female. The patient is alert and oriented x3, not in any acute distress. The patient is ambulatory.\n",
    "\n",
    "VITAL SIGNS:  Temperature 98.4 with a blood pressure of 132/80, pulse of 88, respirations of 20, and weight of 221 pounds, which is decreased from the previous weight of 228.\n",
    "\n",
    "LUNGS:  Clear to auscultation.\n",
    "\n",
    "CARDIOVASCULAR SYSTEM:  Normal rate.  Regular rhythm.  There is no gallop\n",
    "\n",
    "EXTREMITIES:  The extremities are still with about 1+ to +2 pitting leg edema and there is still an open leg ulcer on the left shin area, the mid section, but without any purulent discharge.  No visible induration noted.  Mild erythema.  There is no active bleeding noted and nontender.  The patient also has good pedal pulses.\n",
    "\n",
    "NEUROLOGIC EXAMINATION:  Intact.\n",
    "\n",
    "ASSESSMENT AND PLAN:\n",
    "\n",
    "1.  Nonhealing ulcers of the left leg.  Plan is to retreat with Cipro 500 mg p.o. b.i.d. for 10 days with clindamycin 300 mg p.o. 3 times a day for 10 days.  Would get an x-ray of the left leg and also refer the patient to Infectious Disease for further evaluation and management as well as outpatient wound care center.  The patient will be followed up in about a month.\n",
    "\n",
    "2.  Hypertension, well controlled.  Will continue with the diuretic with Lasix 20 mg b.i.d. with potassium supplement.\n",
    "\n",
    "3.  Leg edema most likely secondary to venous insufficiency.  Continue with the same treatment as #2.\n",
    "\n",
    "4.  The patient will be advised to follow up in about a month\n",
    "\"\"\""
   ]
  },
  {
   "cell_type": "code",
   "execution_count": 90,
   "id": "5ce811b7",
   "metadata": {},
   "outputs": [],
   "source": [
    "doc = ner_pipeline(medical_record)"
   ]
  },
  {
   "cell_type": "code",
   "execution_count": 91,
   "id": "94c2b8d7",
   "metadata": {},
   "outputs": [],
   "source": [
    "extracted_record = {}\n",
    "for entity in doc.entities:\n",
    "    if entity.type in extracted_record:\n",
    "        extracted_record[entity.type].append(entity.text)\n",
    "    else:\n",
    "        extracted_record[entity.type] = [entity.text]"
   ]
  },
  {
   "cell_type": "code",
   "execution_count": 93,
   "id": "7eed06ee",
   "metadata": {},
   "outputs": [
    {
     "name": "stdout",
     "output_type": "stream",
     "text": [
      "{'ANATOMY': ['extremities'],\n",
      " 'ANATOMY_MODIFIER': ['mid'],\n",
      " 'CARDINAL': ['98.4',\n",
      "              '132/80',\n",
      "              '88',\n",
      "              '20',\n",
      "              '228',\n",
      "              '1.',\n",
      "              '3',\n",
      "              '2.',\n",
      "              '3',\n",
      "              '2',\n",
      "              '4'],\n",
      " 'DATE': ['year-old', '10 days', '10 days', 'about a month', 'about a month'],\n",
      " 'NORP': ['Hispanic'],\n",
      " 'OBSERVATION': ['healed',\n",
      "                 'Clear',\n",
      "                 'Normal',\n",
      "                 'rhythm',\n",
      "                 'pedal pulses',\n",
      "                 'Intact'],\n",
      " 'OBSERVATION_MODIFIER': ['completely',\n",
      "                          'markedly',\n",
      "                          'improved',\n",
      "                          'decreased',\n",
      "                          'rate',\n",
      "                          'good',\n",
      "                          'well controlled'],\n",
      " 'PROBLEM': ['Ulcers of Leg',\n",
      "             'the ulcers in the left leg',\n",
      "             'the left ulcer',\n",
      "             'erythema',\n",
      "             'less induration',\n",
      "             'some purulent discharge',\n",
      "             'The leg edema',\n",
      "             'some engorged varicose veins',\n",
      "             'any new ulcerations',\n",
      "             'any acute distress',\n",
      "             'gallop',\n",
      "             '2 pitting leg edema',\n",
      "             'an open leg ulcer on the left shin area',\n",
      "             'any purulent discharge',\n",
      "             'visible induration',\n",
      "             'Mild erythema',\n",
      "             'active bleeding',\n",
      "             'nontender',\n",
      "             'Nonhealing ulcers of the left leg',\n",
      "             'Hypertension',\n",
      "             'Leg edema',\n",
      "             'venous insufficiency'],\n",
      " 'QUANTITY': ['221 pounds', '500 mg', '300 mg', '20 mg'],\n",
      " 'TEST': ['VITAL SIGNS',\n",
      "          'Temperature',\n",
      "          'a blood pressure',\n",
      "          'pulse',\n",
      "          'respirations',\n",
      "          'weight',\n",
      "          'the previous weight',\n",
      "          'auscultation',\n",
      "          'NEUROLOGIC EXAMINATION',\n",
      "          'an x-ray of the left leg',\n",
      "          'further evaluation'],\n",
      " 'TREATMENT': ['diuretics',\n",
      "               'Cipro',\n",
      "               'clindamycin',\n",
      "               'management',\n",
      "               'the diuretic',\n",
      "               'Lasix',\n",
      "               'potassium supplement',\n",
      "               'the same treatment'],\n",
      " 'UNCERTAINTY': ['still not', 'without', 'no', 'without', 'no', 'most likely']}\n"
     ]
    }
   ],
   "source": [
    "pprint.pprint(extracted_record)"
   ]
  }
 ],
 "metadata": {
  "kernelspec": {
   "display_name": "Python 3 (ipykernel)",
   "language": "python",
   "name": "python3"
  },
  "language_info": {
   "codemirror_mode": {
    "name": "ipython",
    "version": 3
   },
   "file_extension": ".py",
   "mimetype": "text/x-python",
   "name": "python",
   "nbconvert_exporter": "python",
   "pygments_lexer": "ipython3",
   "version": "3.8.15"
  }
 },
 "nbformat": 4,
 "nbformat_minor": 5
}
